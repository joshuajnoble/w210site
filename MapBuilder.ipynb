{
 "cells": [
  {
   "cell_type": "code",
   "execution_count": 1,
   "id": "cda0a30a-8e34-4d94-8561-ee004bbf9ff4",
   "metadata": {},
   "outputs": [],
   "source": [
    "import pandas as pd"
   ]
  },
  {
   "cell_type": "code",
   "execution_count": 5,
   "id": "e501f97b-dd82-486e-a244-7c54d5512392",
   "metadata": {},
   "outputs": [],
   "source": [
    "all_dal_hou = pd.read_csv(\"../dallas_houston_evictions_ACS_10_19.csv\")\n",
    "test_data = pd.read_csv(\"testing_data.csv\")\n",
    "mean_claims = pd.read_csv(\"../mean_claim_by_geoid.csv\")"
   ]
  },
  {
   "cell_type": "code",
   "execution_count": null,
   "id": "6ff813b0-9fad-4c5d-8477-1dfa46ff1baf",
   "metadata": {},
   "outputs": [],
   "source": [
    "# look through all the "
   ]
  }
 ],
 "metadata": {
  "kernelspec": {
   "display_name": "Python 3 (ipykernel)",
   "language": "python",
   "name": "python3"
  },
  "language_info": {
   "codemirror_mode": {
    "name": "ipython",
    "version": 3
   },
   "file_extension": ".py",
   "mimetype": "text/x-python",
   "name": "python",
   "nbconvert_exporter": "python",
   "pygments_lexer": "ipython3",
   "version": "3.8.3"
  }
 },
 "nbformat": 4,
 "nbformat_minor": 5
}
